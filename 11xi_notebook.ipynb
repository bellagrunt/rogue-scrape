{
    "nbformat_minor": 1, 
    "cells": [
        {
            "source": "!conda install -c conda-forge beautifulsoup4 --yes # web scraping\n!conda install -c conda-forge ProgressBar2 --yes\n!conda install -c conda-forge lxml --yes # parser for html web scraping\n!conda install -c conda-forge geopy --yes\n!conda install -c conda-forge folium=0.5.0 --yes\n!conda install -c conda-forge html5lib --yes # parser for html5 for beautifulsoup", 
            "cell_type": "code", 
            "metadata": {}, 
            "outputs": [
                {
                    "output_type": "stream", 
                    "name": "stdout", 
                    "text": "Solving environment: done\n\n## Package Plan ##\n\n  environment location: /opt/conda/envs/DSX-Python35\n\n  added / updated specs: \n    - beautifulsoup4\n\n\nThe following packages will be downloaded:\n\n    package                    |            build\n    ---------------------------|-----------------\n    openssl-1.0.2r             |       h14c3975_0         3.1 MB  conda-forge\n    ca-certificates-2019.3.9   |       hecc5488_0         146 KB  conda-forge\n    certifi-2018.8.24          |        py35_1001         139 KB  conda-forge\n    beautifulsoup4-4.6.3       |           py35_0         139 KB  conda-forge\n    ------------------------------------------------------------\n                                           Total:         3.6 MB\n\nThe following packages will be UPDATED:\n\n    beautifulsoup4:  4.6.0-py35h442a8c9_1 --> 4.6.3-py35_0        conda-forge\n    ca-certificates: 2019.1.23-0          --> 2019.3.9-hecc5488_0 conda-forge\n    certifi:         2018.8.24-py35_1     --> 2018.8.24-py35_1001 conda-forge\n    openssl:         1.0.2r-h7b6447c_0    --> 1.0.2r-h14c3975_0   conda-forge\n\n\nDownloading and Extracting Packages\nopenssl-1.0.2r       | 3.1 MB    | ##################################### | 100% \nca-certificates-2019 | 146 KB    | ##################################### | 100% \ncertifi-2018.8.24    | 139 KB    | ##################################### | 100% \nbeautifulsoup4-4.6.3 | 139 KB    | ##################################### | 100% \nPreparing transaction: done\nVerifying transaction: done\nExecuting transaction: done\nSolving environment: done\n\n## Package Plan ##\n\n  environment location: /opt/conda/envs/DSX-Python35\n\n  added / updated specs: \n    - progressbar2\n\n\nThe following packages will be downloaded:\n\n    package                    |            build\n    ---------------------------|-----------------\n    python-utils-2.3.0         |             py_1          11 KB  conda-forge\n    pytest-runner-5.1          |             py_0           9 KB  conda-forge\n    progressbar2-3.38.0        |             py_1          19 KB  conda-forge\n    ------------------------------------------------------------\n                                           Total:          40 KB\n\nThe following NEW packages will be INSTALLED:\n\n    progressbar2:  3.38.0-py_1 conda-forge\n    pytest-runner: 5.1-py_0    conda-forge\n    python-utils:  2.3.0-py_1  conda-forge\n\n\nDownloading and Extracting Packages\npython-utils-2.3.0   | 11 KB     | ##################################### | 100% \npytest-runner-5.1    | 9 KB      | ##################################### | 100% \nprogressbar2-3.38.0  | 19 KB     | ##################################### | 100% \nPreparing transaction: done\nVerifying transaction: done\nExecuting transaction: done\nSolving environment: done\n\n## Package Plan ##\n\n  environment location: /opt/conda/envs/DSX-Python35\n\n  added / updated specs: \n    - lxml\n\n\nThe following packages will be downloaded:\n\n    package                    |            build\n    ---------------------------|-----------------\n    libxslt-1.1.32             |    h4785a14_1002         539 KB  conda-forge\n    lxml-4.2.5                 |   py35hc9114bc_0         5.8 MB  conda-forge\n    libxml2-2.9.9              |       h13577e0_0         2.0 MB  conda-forge\n    ------------------------------------------------------------\n                                           Total:         8.3 MB\n\nThe following packages will be UPDATED:\n\n    libxml2: 2.9.4-h6b072ca_5     --> 2.9.9-h13577e0_0     conda-forge\n    libxslt: 1.1.29-hcf9102b_5    --> 1.1.32-h4785a14_1002 conda-forge\n    lxml:    4.1.0-py35ha401a81_0 --> 4.2.5-py35hc9114bc_0 conda-forge\n\n\nDownloading and Extracting Packages\nlibxslt-1.1.32       | 539 KB    | ##################################### | 100% \nlxml-4.2.5           | 5.8 MB    | ##################################### | 100% \nlibxml2-2.9.9        | 2.0 MB    | ##################################### | 100% \nPreparing transaction: done\nVerifying transaction: done\nExecuting transaction: done\nSolving environment: done\n\n## Package Plan ##\n\n  environment location: /opt/conda/envs/DSX-Python35\n\n  added / updated specs: \n    - geopy\n\n\nThe following packages will be downloaded:\n\n    package                    |            build\n    ---------------------------|-----------------\n    geopy-1.20.0               |             py_0          57 KB  conda-forge\n    geographiclib-1.49         |             py_0          32 KB  conda-forge\n    ------------------------------------------------------------\n                                           Total:          90 KB\n\nThe following NEW packages will be INSTALLED:\n\n    geographiclib: 1.49-py_0   conda-forge\n    geopy:         1.20.0-py_0 conda-forge\n\n\nDownloading and Extracting Packages\ngeopy-1.20.0         | 57 KB     | ##################################### | 100% \ngeographiclib-1.49   | 32 KB     | ##################################### | 100% \nPreparing transaction: done\nVerifying transaction: done\nExecuting transaction: done\nSolving environment: done\n\n## Package Plan ##\n\n  environment location: /opt/conda/envs/DSX-Python35\n\n  added / updated specs: \n    - folium=0.5.0\n\n\nThe following packages will be downloaded:\n\n    package                    |            build\n    ---------------------------|-----------------\n    vincent-0.4.4              |             py_1          28 KB  conda-forge\n    branca-0.3.1               |             py_0          25 KB  conda-forge\n    folium-0.5.0               |             py_0          45 KB  conda-forge\n    altair-2.2.2               |           py35_1         462 KB  conda-forge\n    ------------------------------------------------------------\n                                           Total:         560 KB\n\nThe following NEW packages will be INSTALLED:\n\n    altair:  2.2.2-py35_1 conda-forge\n    branca:  0.3.1-py_0   conda-forge\n    folium:  0.5.0-py_0   conda-forge\n    vincent: 0.4.4-py_1   conda-forge\n\n\nDownloading and Extracting Packages\nvincent-0.4.4        | 28 KB     | ##################################### | 100% \nbranca-0.3.1         | 25 KB     | ##################################### | 100% \nfolium-0.5.0         | 45 KB     | ##################################### | 100% \naltair-2.2.2         | 462 KB    | ##################################### | 100% \nPreparing transaction: done\nVerifying transaction: done\nExecuting transaction: done\nSolving environment: done\n\n## Package Plan ##\n\n  environment location: /opt/conda/envs/DSX-Python35\n\n  added / updated specs: \n    - html5lib\n\n\nThe following packages will be downloaded:\n\n    package                    |            build\n    ---------------------------|-----------------\n    html5lib-1.0.1             |             py_0          89 KB  conda-forge\n\nThe following packages will be UPDATED:\n\n    html5lib: 0.999999999-py35h0543385_0 --> 1.0.1-py_0 conda-forge\n\n\nDownloading and Extracting Packages\nhtml5lib-1.0.1       | 89 KB     | ##################################### | 100% \nPreparing transaction: done\nVerifying transaction: done\nExecuting transaction: done\n"
                }
            ], 
            "execution_count": 1
        }, 
        {
            "source": "    from progressbar import ProgressBar\n    from bs4 import BeautifulSoup as bts # web scraping\n    import numpy as np # library to handle data in a vectorized manner\n    import pandas as pd # library for data analysis\n    from pandas.io.json import json_normalize # json data\n    import matplotlib.cm as cm\n    import matplotlib.colors as colors\n    import requests # library to handle requests\n    from geopy.geocoders import Nominatim # convert an address into latitude and longitude values\n    import matplotlib as mp # library for visualization\n    from sklearn.cluster import KMeans # import k-means from clustering stage\n    from geopy.geocoders import Nominatim # convert an address into latitude and longitude values\n    import folium # map rendering library\n    import lxml \n    import re\n    from time import sleep\n    print(\"Libraries imported successfully!\\n\")", 
            "cell_type": "code", 
            "metadata": {}, 
            "outputs": [
                {
                    "output_type": "stream", 
                    "name": "stdout", 
                    "text": "Libraries imported successfully!\n\n"
                }
            ], 
            "execution_count": 229
        }, 
        {
            "source": "url = 'https://en.wikipedia.org/wiki/List_of_postal_codes_of_Canada:_M'", 
            "cell_type": "code", 
            "metadata": {
                "scrolled": true
            }, 
            "outputs": [], 
            "execution_count": 230
        }, 
        {
            "source": "source = requests.get(url).text", 
            "cell_type": "code", 
            "metadata": {}, 
            "outputs": [], 
            "execution_count": 231
        }, 
        {
            "source": "filename = \"canada1.cvs\"\nf = open(filename, 'w')", 
            "cell_type": "code", 
            "metadata": {}, 
            "outputs": [], 
            "execution_count": 232
        }, 
        {
            "source": "soup = bts(source, 'lxml')", 
            "cell_type": "code", 
            "metadata": {}, 
            "outputs": [], 
            "execution_count": 233
        }, 
        {
            "source": "article = soup.find('div', 'mw-content-ltr')", 
            "cell_type": "code", 
            "metadata": {}, 
            "outputs": [], 
            "execution_count": 234
        }, 
        {
            "source": "table = article.table", 
            "cell_type": "code", 
            "metadata": {}, 
            "outputs": [], 
            "execution_count": 235
        }, 
        {
            "source": "rows = table.tbody.find_all('tr')", 
            "cell_type": "code", 
            "metadata": {}, 
            "outputs": [], 
            "execution_count": 268
        }, 
        {
            "source": "column_name = rowt[0].find_all('th')\nprint(column_name)", 
            "cell_type": "code", 
            "metadata": {}, 
            "outputs": [
                {
                    "output_type": "stream", 
                    "name": "stdout", 
                    "text": "[<th>Postcode</th>, <th>Borough</th>, <th>Neighbourhood\n</th>]\n"
                }
            ], 
            "execution_count": 269
        }, 
        {
            "source": "headers = \"\"", 
            "cell_type": "code", 
            "metadata": {}, 
            "outputs": [], 
            "execution_count": 270
        }, 
        {
            "source": "for column_name in column_names:\n    headers = headers + column_name.text + \",\"\nheaders = headers[:-1]", 
            "cell_type": "code", 
            "metadata": {}, 
            "outputs": [], 
            "execution_count": 271
        }, 
        {
            "source": "f.write(headers)", 
            "cell_type": "code", 
            "metadata": {}, 
            "outputs": [
                {
                    "output_type": "execute_result", 
                    "data": {
                        "text/plain": "31"
                    }, 
                    "execution_count": 272, 
                    "metadata": {}
                }
            ], 
            "execution_count": 272
        }, 
        {
            "source": "for row in rows:\n    cells = row.find_all('td')\n    row_buff = \"\"\n    for cell in cells:\n        row_buff = row_buff + cell.text + ','\n\n    # A comma is not required at the end of each line/row\n    row_buff = row_buff[:-1]\n    f.write(row_buff)", 
            "cell_type": "code", 
            "metadata": {}, 
            "outputs": [], 
            "execution_count": 273
        }, 
        {
            "source": "df = pd.read_csv(\"canada1.cvs\")\ndf.head()", 
            "cell_type": "code", 
            "metadata": {}, 
            "outputs": [
                {
                    "output_type": "execute_result", 
                    "data": {
                        "text/plain": "   Postcode       Borough  Neighbourhood\n0  Postcode       Borough  Neighbourhood\n1  Postcode       Borough  Neighbourhood\n2  Postcode       Borough  Neighbourhood\n3       M1A  Not assigned   Not assigned\n4       M2A  Not assigned   Not assigned", 
                        "text/html": "<div>\n<style scoped>\n    .dataframe tbody tr th:only-of-type {\n        vertical-align: middle;\n    }\n\n    .dataframe tbody tr th {\n        vertical-align: top;\n    }\n\n    .dataframe thead th {\n        text-align: right;\n    }\n</style>\n<table border=\"1\" class=\"dataframe\">\n  <thead>\n    <tr style=\"text-align: right;\">\n      <th></th>\n      <th>Postcode</th>\n      <th>Borough</th>\n      <th>Neighbourhood</th>\n    </tr>\n  </thead>\n  <tbody>\n    <tr>\n      <th>0</th>\n      <td>Postcode</td>\n      <td>Borough</td>\n      <td>Neighbourhood</td>\n    </tr>\n    <tr>\n      <th>1</th>\n      <td>Postcode</td>\n      <td>Borough</td>\n      <td>Neighbourhood</td>\n    </tr>\n    <tr>\n      <th>2</th>\n      <td>Postcode</td>\n      <td>Borough</td>\n      <td>Neighbourhood</td>\n    </tr>\n    <tr>\n      <th>3</th>\n      <td>M1A</td>\n      <td>Not assigned</td>\n      <td>Not assigned</td>\n    </tr>\n    <tr>\n      <th>4</th>\n      <td>M2A</td>\n      <td>Not assigned</td>\n      <td>Not assigned</td>\n    </tr>\n  </tbody>\n</table>\n</div>"
                    }, 
                    "execution_count": 274, 
                    "metadata": {}
                }
            ], 
            "execution_count": 274
        }, 
        {
            "source": "df.shape", 
            "cell_type": "code", 
            "metadata": {}, 
            "outputs": [
                {
                    "output_type": "execute_result", 
                    "data": {
                        "text/plain": "(543, 3)"
                    }, 
                    "execution_count": 275, 
                    "metadata": {}
                }
            ], 
            "execution_count": 275
        }, 
        {
            "source": "borough_mask = df.index[df['Borough'] == 'Not assigned']\nneighborhood_mask = df.index[df['Neighbourhood'] == 'Not assigned']\nneighborhood_and_borough_mask = borough_mask & neighborhood_mask", 
            "cell_type": "code", 
            "metadata": {}, 
            "outputs": [], 
            "execution_count": 278
        }, 
        {
            "source": "print('  {} Postal codes'.format(df['Postcode'].unique().shape[0]))\nprint('  {} Boroughs'.format(df['Borough'].unique().shape[1]))\nprint('  {} Neighborhoods'.format(df['Neighbourhood'].unique().shape[0]))\nprint('The DataFrame shape is {}'.format(df.shape),'\\n')", 
            "cell_type": "code", 
            "metadata": {}, 
            "outputs": [
                {
                    "output_type": "stream", 
                    "name": "stdout", 
                    "text": "  181 Postal codes\n"
                }, 
                {
                    "output_type": "error", 
                    "evalue": "tuple index out of range", 
                    "traceback": [
                        "\u001b[0;31m---------------------------------------------------------------------------\u001b[0m", 
                        "\u001b[0;31mIndexError\u001b[0m                                Traceback (most recent call last)", 
                        "\u001b[0;32m<ipython-input-288-41f961a8b6f6>\u001b[0m in \u001b[0;36m<module>\u001b[0;34m()\u001b[0m\n\u001b[1;32m      1\u001b[0m \u001b[0mprint\u001b[0m\u001b[0;34m(\u001b[0m\u001b[0;34m'  {} Postal codes'\u001b[0m\u001b[0;34m.\u001b[0m\u001b[0mformat\u001b[0m\u001b[0;34m(\u001b[0m\u001b[0mdf\u001b[0m\u001b[0;34m[\u001b[0m\u001b[0;34m'Postcode'\u001b[0m\u001b[0;34m]\u001b[0m\u001b[0;34m.\u001b[0m\u001b[0munique\u001b[0m\u001b[0;34m(\u001b[0m\u001b[0;34m)\u001b[0m\u001b[0;34m.\u001b[0m\u001b[0mshape\u001b[0m\u001b[0;34m[\u001b[0m\u001b[0;36m0\u001b[0m\u001b[0;34m]\u001b[0m\u001b[0;34m)\u001b[0m\u001b[0;34m)\u001b[0m\u001b[0;34m\u001b[0m\u001b[0m\n\u001b[0;32m----> 2\u001b[0;31m \u001b[0mprint\u001b[0m\u001b[0;34m(\u001b[0m\u001b[0;34m'  {} Boroughs'\u001b[0m\u001b[0;34m.\u001b[0m\u001b[0mformat\u001b[0m\u001b[0;34m(\u001b[0m\u001b[0mdf\u001b[0m\u001b[0;34m[\u001b[0m\u001b[0;34m'Borough'\u001b[0m\u001b[0;34m]\u001b[0m\u001b[0;34m.\u001b[0m\u001b[0munique\u001b[0m\u001b[0;34m(\u001b[0m\u001b[0;34m)\u001b[0m\u001b[0;34m.\u001b[0m\u001b[0mshape\u001b[0m\u001b[0;34m[\u001b[0m\u001b[0;36m1\u001b[0m\u001b[0;34m]\u001b[0m\u001b[0;34m)\u001b[0m\u001b[0;34m)\u001b[0m\u001b[0;34m\u001b[0m\u001b[0m\n\u001b[0m\u001b[1;32m      3\u001b[0m \u001b[0mprint\u001b[0m\u001b[0;34m(\u001b[0m\u001b[0;34m'  {} Neighborhoods'\u001b[0m\u001b[0;34m.\u001b[0m\u001b[0mformat\u001b[0m\u001b[0;34m(\u001b[0m\u001b[0mdf\u001b[0m\u001b[0;34m[\u001b[0m\u001b[0;34m'Neighbourhood'\u001b[0m\u001b[0;34m]\u001b[0m\u001b[0;34m.\u001b[0m\u001b[0munique\u001b[0m\u001b[0;34m(\u001b[0m\u001b[0;34m)\u001b[0m\u001b[0;34m.\u001b[0m\u001b[0mshape\u001b[0m\u001b[0;34m[\u001b[0m\u001b[0;36m0\u001b[0m\u001b[0;34m]\u001b[0m\u001b[0;34m)\u001b[0m\u001b[0;34m)\u001b[0m\u001b[0;34m\u001b[0m\u001b[0m\n\u001b[1;32m      4\u001b[0m \u001b[0mprint\u001b[0m\u001b[0;34m(\u001b[0m\u001b[0;34m'The DataFrame shape is {}'\u001b[0m\u001b[0;34m.\u001b[0m\u001b[0mformat\u001b[0m\u001b[0;34m(\u001b[0m\u001b[0mdf\u001b[0m\u001b[0;34m.\u001b[0m\u001b[0mshape\u001b[0m\u001b[0;34m)\u001b[0m\u001b[0;34m,\u001b[0m\u001b[0;34m'\\n'\u001b[0m\u001b[0;34m)\u001b[0m\u001b[0;34m\u001b[0m\u001b[0m\n", 
                        "\u001b[0;31mIndexError\u001b[0m: tuple index out of range"
                    ], 
                    "ename": "IndexError"
                }
            ], 
            "execution_count": 288
        }, 
        {
            "source": "", 
            "cell_type": "code", 
            "metadata": {}, 
            "outputs": [], 
            "execution_count": null
        }, 
        {
            "source": "", 
            "cell_type": "code", 
            "metadata": {}, 
            "outputs": [
                {
                    "output_type": "execute_result", 
                    "data": {
                        "text/plain": "(0, 3)"
                    }, 
                    "execution_count": 185, 
                    "metadata": {}
                }
            ], 
            "execution_count": 185
        }, 
        {
            "source": "# headline = article.a.text\n# print(headline)", 
            "cell_type": "code", 
            "metadata": {}, 
            "outputs": [], 
            "execution_count": 127
        }, 
        {
            "source": "# print(article.prettify())", 
            "cell_type": "code", 
            "metadata": {}, 
            "outputs": [], 
            "execution_count": 124
        }, 
        {
            "source": "# summary = article.find('div', class_='entry-content')", 
            "cell_type": "code", 
            "metadata": {}, 
            "outputs": [], 
            "execution_count": 125
        }, 
        {
            "source": "# print(summary)", 
            "cell_type": "code", 
            "metadata": {}, 
            "outputs": [], 
            "execution_count": 126
        }, 
        {
            "source": "vid_src = article.find('iframe', class_='youtube-player')['src']\nprint(vid_src)", 
            "cell_type": "code", 
            "metadata": {}, 
            "outputs": [
                {
                    "output_type": "stream", 
                    "name": "stdout", 
                    "text": "https://www.youtube.com/embed/-nh9rCzPJ20?version=3&rel=1&fs=1&autohide=2&showsearch=0&showinfo=1&iv_load_policy=1&wmode=transparent\n"
                }
            ], 
            "execution_count": 102
        }, 
        {
            "source": "vid_id = vid_src.split('/')[4]\nvid_id = vid_id.split('?')[0]", 
            "cell_type": "code", 
            "metadata": {}, 
            "outputs": [], 
            "execution_count": 111
        }, 
        {
            "source": "# print(vid_id)", 
            "cell_type": "code", 
            "metadata": {}, 
            "outputs": [
                {
                    "output_type": "stream", 
                    "name": "stdout", 
                    "text": "-nh9rCzPJ20\n"
                }
            ], 
            "execution_count": 112
        }, 
        {
            "source": "", 
            "cell_type": "code", 
            "metadata": {}, 
            "outputs": [], 
            "execution_count": null
        }, 
        {
            "source": "", 
            "cell_type": "code", 
            "metadata": {}, 
            "outputs": [], 
            "execution_count": null
        }, 
        {
            "source": "", 
            "cell_type": "code", 
            "metadata": {}, 
            "outputs": [], 
            "execution_count": null
        }
    ], 
    "metadata": {
        "kernelspec": {
            "display_name": "Python 3.5", 
            "name": "python3", 
            "language": "python"
        }, 
        "language_info": {
            "mimetype": "text/x-python", 
            "nbconvert_exporter": "python", 
            "version": "3.5.5", 
            "name": "python", 
            "file_extension": ".py", 
            "pygments_lexer": "ipython3", 
            "codemirror_mode": {
                "version": 3, 
                "name": "ipython"
            }
        }
    }, 
    "nbformat": 4
}