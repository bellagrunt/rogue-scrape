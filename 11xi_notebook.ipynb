{
    "nbformat_minor": 1, 
    "cells": [
        {
            "source": "!conda install -c conda-forge beautifulsoup4 --yes # web scraping\n!conda install -c conda-forge ProgressBar2 --yes\n!conda install -c conda-forge lxml --yes # parser for html web scraping\n!conda install -c conda-forge geopy --yes\n!conda install -c conda-forge folium=0.5.0 --yes\n!conda install -c conda-forge html5lib --yes # parser for html5 for beautifulsoup", 
            "cell_type": "code", 
            "metadata": {}, 
            "outputs": [
                {
                    "output_type": "stream", 
                    "name": "stdout", 
                    "text": "Solving environment: done\n\n## Package Plan ##\n\n  environment location: /opt/conda/envs/DSX-Python35\n\n  added / updated specs: \n    - beautifulsoup4\n\n\nThe following packages will be downloaded:\n\n    package                    |            build\n    ---------------------------|-----------------\n    openssl-1.0.2r             |       h14c3975_0         3.1 MB  conda-forge\n    ca-certificates-2019.3.9   |       hecc5488_0         146 KB  conda-forge\n    certifi-2018.8.24          |        py35_1001         139 KB  conda-forge\n    beautifulsoup4-4.6.3       |           py35_0         139 KB  conda-forge\n    ------------------------------------------------------------\n                                           Total:         3.6 MB\n\nThe following packages will be UPDATED:\n\n    beautifulsoup4:  4.6.0-py35h442a8c9_1 --> 4.6.3-py35_0        conda-forge\n    ca-certificates: 2019.1.23-0          --> 2019.3.9-hecc5488_0 conda-forge\n    certifi:         2018.8.24-py35_1     --> 2018.8.24-py35_1001 conda-forge\n    openssl:         1.0.2r-h7b6447c_0    --> 1.0.2r-h14c3975_0   conda-forge\n\n\nDownloading and Extracting Packages\nopenssl-1.0.2r       | 3.1 MB    | ##################################### | 100% \nca-certificates-2019 | 146 KB    | ##################################### | 100% \ncertifi-2018.8.24    | 139 KB    | ##################################### | 100% \nbeautifulsoup4-4.6.3 | 139 KB    | ##################################### | 100% \nPreparing transaction: done\nVerifying transaction: done\nExecuting transaction: done\nSolving environment: done\n\n## Package Plan ##\n\n  environment location: /opt/conda/envs/DSX-Python35\n\n  added / updated specs: \n    - progressbar2\n\n\nThe following packages will be downloaded:\n\n    package                    |            build\n    ---------------------------|-----------------\n    python-utils-2.3.0         |             py_1          11 KB  conda-forge\n    pytest-runner-5.1          |             py_0           9 KB  conda-forge\n    progressbar2-3.38.0        |             py_1          19 KB  conda-forge\n    ------------------------------------------------------------\n                                           Total:          40 KB\n\nThe following NEW packages will be INSTALLED:\n\n    progressbar2:  3.38.0-py_1 conda-forge\n    pytest-runner: 5.1-py_0    conda-forge\n    python-utils:  2.3.0-py_1  conda-forge\n\n\nDownloading and Extracting Packages\npython-utils-2.3.0   | 11 KB     | ##################################### | 100% \npytest-runner-5.1    | 9 KB      | ##################################### | 100% \nprogressbar2-3.38.0  | 19 KB     | ##################################### | 100% \nPreparing transaction: done\nVerifying transaction: done\nExecuting transaction: done\nSolving environment: done\n\n## Package Plan ##\n\n  environment location: /opt/conda/envs/DSX-Python35\n\n  added / updated specs: \n    - lxml\n\n\nThe following packages will be downloaded:\n\n    package                    |            build\n    ---------------------------|-----------------\n    libxslt-1.1.32             |    h4785a14_1002         539 KB  conda-forge\n    lxml-4.2.5                 |   py35hc9114bc_0         5.8 MB  conda-forge\n    libxml2-2.9.9              |       h13577e0_0         2.0 MB  conda-forge\n    ------------------------------------------------------------\n                                           Total:         8.3 MB\n\nThe following packages will be UPDATED:\n\n    libxml2: 2.9.4-h6b072ca_5     --> 2.9.9-h13577e0_0     conda-forge\n    libxslt: 1.1.29-hcf9102b_5    --> 1.1.32-h4785a14_1002 conda-forge\n    lxml:    4.1.0-py35ha401a81_0 --> 4.2.5-py35hc9114bc_0 conda-forge\n\n\nDownloading and Extracting Packages\nlibxslt-1.1.32       | 539 KB    | ##################################### | 100% \nlxml-4.2.5           | 5.8 MB    | ##################################### | 100% \nlibxml2-2.9.9        | 2.0 MB    | ##################################### | 100% \nPreparing transaction: done\nVerifying transaction: done\nExecuting transaction: done\nSolving environment: done\n\n## Package Plan ##\n\n  environment location: /opt/conda/envs/DSX-Python35\n\n  added / updated specs: \n    - geopy\n\n\nThe following packages will be downloaded:\n\n    package                    |            build\n    ---------------------------|-----------------\n    geopy-1.20.0               |             py_0          57 KB  conda-forge\n    geographiclib-1.49         |             py_0          32 KB  conda-forge\n    ------------------------------------------------------------\n                                           Total:          90 KB\n\nThe following NEW packages will be INSTALLED:\n\n    geographiclib: 1.49-py_0   conda-forge\n    geopy:         1.20.0-py_0 conda-forge\n\n\nDownloading and Extracting Packages\ngeopy-1.20.0         | 57 KB     | ##################################### | 100% \ngeographiclib-1.49   | 32 KB     | ##################################### | 100% \nPreparing transaction: done\nVerifying transaction: done\nExecuting transaction: done\nSolving environment: done\n\n## Package Plan ##\n\n  environment location: /opt/conda/envs/DSX-Python35\n\n  added / updated specs: \n    - folium=0.5.0\n\n\nThe following packages will be downloaded:\n\n    package                    |            build\n    ---------------------------|-----------------\n    vincent-0.4.4              |             py_1          28 KB  conda-forge\n    branca-0.3.1               |             py_0          25 KB  conda-forge\n    folium-0.5.0               |             py_0          45 KB  conda-forge\n    altair-2.2.2               |           py35_1         462 KB  conda-forge\n    ------------------------------------------------------------\n                                           Total:         560 KB\n\nThe following NEW packages will be INSTALLED:\n\n    altair:  2.2.2-py35_1 conda-forge\n    branca:  0.3.1-py_0   conda-forge\n    folium:  0.5.0-py_0   conda-forge\n    vincent: 0.4.4-py_1   conda-forge\n\n\nDownloading and Extracting Packages\nvincent-0.4.4        | 28 KB     | ##################################### | 100% \nbranca-0.3.1         | 25 KB     | ##################################### | 100% \nfolium-0.5.0         | 45 KB     | ##################################### | 100% \naltair-2.2.2         | 462 KB    | ##################################### | 100% \nPreparing transaction: done\nVerifying transaction: done\nExecuting transaction: done\nSolving environment: done\n\n## Package Plan ##\n\n  environment location: /opt/conda/envs/DSX-Python35\n\n  added / updated specs: \n    - html5lib\n\n\nThe following packages will be downloaded:\n\n    package                    |            build\n    ---------------------------|-----------------\n    html5lib-1.0.1             |             py_0          89 KB  conda-forge\n\nThe following packages will be UPDATED:\n\n    html5lib: 0.999999999-py35h0543385_0 --> 1.0.1-py_0 conda-forge\n\n\nDownloading and Extracting Packages\nhtml5lib-1.0.1       | 89 KB     | ##################################### | 100% \nPreparing transaction: done\nVerifying transaction: done\nExecuting transaction: done\n"
                }
            ], 
            "execution_count": 1
        }, 
        {
            "source": "    from progressbar import ProgressBar\n    from bs4 import BeautifulSoup as bts # web scraping\n    import numpy as np # library to handle data in a vectorized manner\n    import pandas as pd # library for data analysis\n    from pandas.io.json import json_normalize # json data\n    import matplotlib.cm as cm\n    import matplotlib.colors as colors\n    import requests # library to handle requests\n    from geopy.geocoders import Nominatim # convert an address into latitude and longitude values\n    import matplotlib as mp # library for visualization\n    from sklearn.cluster import KMeans # import k-means from clustering stage\n    from geopy.geocoders import Nominatim # convert an address into latitude and longitude values\n    import folium # map rendering library\n    import lxml \n    import re\n    from time import sleep\n    print(\"Libraries imported successfully!\\n\")", 
            "cell_type": "code", 
            "metadata": {}, 
            "outputs": [
                {
                    "output_type": "stream", 
                    "name": "stdout", 
                    "text": "Libraries imported successfully!\n\n"
                }
            ], 
            "execution_count": 37
        }, 
        {
            "source": "url = 'http://coreyms.com'", 
            "cell_type": "code", 
            "metadata": {
                "scrolled": true
            }, 
            "outputs": [], 
            "execution_count": 78
        }, 
        {
            "source": "source = requests.get(url).text", 
            "cell_type": "code", 
            "metadata": {}, 
            "outputs": [], 
            "execution_count": 79
        }, 
        {
            "source": "filename = \"hgb.cvs\"\nf = open(filename, 'w')", 
            "cell_type": "code", 
            "metadata": {}, 
            "outputs": [], 
            "execution_count": 80
        }, 
        {
            "source": "soup = bts(source, 'lxml')", 
            "cell_type": "code", 
            "metadata": {}, 
            "outputs": [], 
            "execution_count": 81
        }, 
        {
            "source": "article = soup.find('article')", 
            "cell_type": "code", 
            "metadata": {}, 
            "outputs": [], 
            "execution_count": 85
        }, 
        {
            "source": "# headline = article.a.text\n# print(headline)", 
            "cell_type": "code", 
            "metadata": {}, 
            "outputs": [
                {
                    "output_type": "stream", 
                    "name": "stdout", 
                    "text": "Visual Studio Code (Windows) \u2013 Setting up a Python Development Environment and Complete Overview\n"
                }
            ], 
            "execution_count": 87
        }, 
        {
            "source": "print(article.prettify())", 
            "cell_type": "code", 
            "metadata": {}, 
            "outputs": [
                {
                    "output_type": "stream", 
                    "name": "stdout", 
                    "text": "<article class=\"post-1642 post type-post status-publish format-standard has-post-thumbnail category-development category-python tag-development-environment tag-visual-studio-code tag-visual-studios tag-vs-code tag-vscode entry\" itemscope=\"\" itemtype=\"https://schema.org/CreativeWork\">\n <header class=\"entry-header\">\n  <h2 class=\"entry-title\" itemprop=\"headline\">\n   <a class=\"entry-title-link\" href=\"https://coreyms.com/development/python/visual-studio-code-windows-setting-up-a-python-development-environment-and-complete-overview\" rel=\"bookmark\">\n    Visual Studio Code (Windows) \u2013 Setting up a Python Development Environment and Complete Overview\n   </a>\n  </h2>\n  <p class=\"entry-meta\">\n   <time class=\"entry-time\" datetime=\"2019-05-01T14:03:24+00:00\" itemprop=\"datePublished\">\n    May 1, 2019\n   </time>\n   by\n   <span class=\"entry-author\" itemprop=\"author\" itemscope=\"\" itemtype=\"https://schema.org/Person\">\n    <a class=\"entry-author-link\" href=\"https://coreyms.com/author/coreymschafer\" itemprop=\"url\" rel=\"author\">\n     <span class=\"entry-author-name\" itemprop=\"name\">\n      Corey Schafer\n     </span>\n    </a>\n   </span>\n   <span class=\"entry-comments-link\">\n    <a href=\"https://coreyms.com/development/python/visual-studio-code-windows-setting-up-a-python-development-environment-and-complete-overview#respond\">\n     <span class=\"dsq-postid\" data-dsqidentifier=\"1642 http://coreyms.com/?p=1642\">\n      Leave a Comment\n     </span>\n    </a>\n   </span>\n  </p>\n </header>\n <div class=\"entry-content\" itemprop=\"text\">\n  <p>\n   In this Python Programming Tutorial, we will be learning how to set up a Python development environment in VSCode on Windows. VSCode is a very nice free editor for writing Python applications and many developers are now switching over to this editor. In this video, we will learn how to install VSCode, get the Python extension installed, how to change Python interpreters, create virtual environments, format/lint our code, how to use Git within VSCode, how to debug our programs, how unit testing works, and more. We have a lot to cover, so let\u2019s go ahead and get started\u2026\n  </p>\n  <p>\n   VSCode on MacOS \u2013 https://youtu.be/06I63_p-2A4\n  </p>\n  <p>\n   Timestamps for topics in this tutorial:\n   <br/>\n   Installation \u2013 1:13\n   <br/>\n   Python Extension \u2013 5:48\n   <br/>\n   Switching Interpreters \u2013 10:04\n   <br/>\n   Changing Color Themes \u2013 12:35\n   <br/>\n   VSCode Settings \u2013 16:16\n   <br/>\n   Set Default Python \u2013 21:33\n   <br/>\n   Using Virtual Environments \u2013 25:10\n   <br/>\n   IntelliSense \u2013 29:45\n   <br/>\n   Code Formatting \u2013 32:13\n   <br/>\n   Code Linting \u2013 37:06\n   <br/>\n   Code Runner Extension \u2013 39:42\n   <br/>\n   Git Integration \u2013 47:44\n   <br/>\n   Use Different Terminal \u2013 51:07\n   <br/>\n   Debugging \u2013 58:45\n   <br/>\n   Unit Testing \u2013 1:03:25\n   <br/>\n   Zen Mode \u2013 1:09:55\n  </p>\n  <figure class=\"wp-block-embed-youtube wp-block-embed is-type-video is-provider-youtube wp-embed-aspect-16-9 wp-has-aspect-ratio\">\n   <div class=\"wp-block-embed__wrapper\">\n    <span class=\"embed-youtube\" style=\"text-align:center; display: block;\">\n     <iframe allowfullscreen=\"true\" class=\"youtube-player\" height=\"360\" src=\"https://www.youtube.com/embed/-nh9rCzPJ20?version=3&amp;rel=1&amp;fs=1&amp;autohide=2&amp;showsearch=0&amp;showinfo=1&amp;iv_load_policy=1&amp;wmode=transparent\" style=\"border:0;\" type=\"text/html\" width=\"640\">\n     </iframe>\n    </span>\n   </div>\n  </figure>\n </div>\n <footer class=\"entry-footer\">\n  <p class=\"entry-meta\">\n   <span class=\"entry-categories\">\n    Filed Under:\n    <a href=\"https://coreyms.com/category/development\" rel=\"category tag\">\n     Development\n    </a>\n    ,\n    <a href=\"https://coreyms.com/category/development/python\" rel=\"category tag\">\n     Python\n    </a>\n   </span>\n   <span class=\"entry-tags\">\n    Tagged With:\n    <a href=\"https://coreyms.com/tag/development-environment\" rel=\"tag\">\n     Development Environment\n    </a>\n    ,\n    <a href=\"https://coreyms.com/tag/visual-studio-code\" rel=\"tag\">\n     visual studio code\n    </a>\n    ,\n    <a href=\"https://coreyms.com/tag/visual-studios\" rel=\"tag\">\n     visual studios\n    </a>\n    ,\n    <a href=\"https://coreyms.com/tag/vs-code\" rel=\"tag\">\n     vs code\n    </a>\n    ,\n    <a href=\"https://coreyms.com/tag/vscode\" rel=\"tag\">\n     vscode\n    </a>\n   </span>\n  </p>\n </footer>\n</article>\n\n"
                }
            ], 
            "execution_count": 88
        }, 
        {
            "source": "summary = article.find('div', class_='entry-content')", 
            "cell_type": "code", 
            "metadata": {}, 
            "outputs": [], 
            "execution_count": 98
        }, 
        {
            "source": "print(summary)", 
            "cell_type": "code", 
            "metadata": {}, 
            "outputs": [
                {
                    "output_type": "stream", 
                    "name": "stdout", 
                    "text": "<div class=\"entry-content\" itemprop=\"text\">\n<p>In this Python Programming Tutorial, we will be learning how to set up a Python development environment in VSCode on Windows. VSCode is a very nice free editor for writing Python applications and many developers are now switching over to this editor. In this video, we will learn how to install VSCode, get the Python extension installed, how to change Python interpreters, create virtual environments, format/lint our code, how to use Git within VSCode, how to debug our programs, how unit testing works, and more. We have a lot to cover, so let\u2019s go ahead and get started\u2026</p>\n<p>VSCode on MacOS \u2013 https://youtu.be/06I63_p-2A4</p>\n<p>Timestamps for topics in this tutorial:<br/> Installation \u2013 1:13<br/> Python Extension \u2013 5:48<br/> Switching Interpreters \u2013 10:04<br/> Changing Color Themes \u2013 12:35<br/> VSCode Settings \u2013 16:16<br/> Set Default Python \u2013 21:33<br/> Using Virtual Environments \u2013 25:10<br/> IntelliSense \u2013 29:45<br/> Code Formatting \u2013 32:13<br/> Code Linting \u2013 37:06<br/> Code Runner Extension \u2013 39:42<br/> Git Integration \u2013 47:44<br/> Use Different Terminal \u2013 51:07<br/> Debugging \u2013 58:45<br/> Unit Testing \u2013 1:03:25<br/> Zen Mode \u2013 1:09:55</p>\n<figure class=\"wp-block-embed-youtube wp-block-embed is-type-video is-provider-youtube wp-embed-aspect-16-9 wp-has-aspect-ratio\"><div class=\"wp-block-embed__wrapper\">\n<span class=\"embed-youtube\" style=\"text-align:center; display: block;\"><iframe allowfullscreen=\"true\" class=\"youtube-player\" height=\"360\" src=\"https://www.youtube.com/embed/-nh9rCzPJ20?version=3&amp;rel=1&amp;fs=1&amp;autohide=2&amp;showsearch=0&amp;showinfo=1&amp;iv_load_policy=1&amp;wmode=transparent\" style=\"border:0;\" type=\"text/html\" width=\"640\"></iframe></span>\n</div></figure>\n</div>\n"
                }
            ], 
            "execution_count": 99
        }, 
        {
            "source": "", 
            "cell_type": "code", 
            "metadata": {}, 
            "outputs": [], 
            "execution_count": null
        }
    ], 
    "metadata": {
        "kernelspec": {
            "display_name": "Python 3.5", 
            "name": "python3", 
            "language": "python"
        }, 
        "language_info": {
            "mimetype": "text/x-python", 
            "nbconvert_exporter": "python", 
            "version": "3.5.5", 
            "name": "python", 
            "file_extension": ".py", 
            "pygments_lexer": "ipython3", 
            "codemirror_mode": {
                "version": 3, 
                "name": "ipython"
            }
        }
    }, 
    "nbformat": 4
}