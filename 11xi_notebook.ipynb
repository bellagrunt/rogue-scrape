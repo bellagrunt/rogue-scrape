{
    "nbformat_minor": 1, 
    "cells": [
        {
            "source": "!conda install -c conda-forge beautifulsoup4 --yes # web scraping\n!conda install -c conda-forge ProgressBar2 --yes\n!conda install -c conda-forge lxml --yes # parser for html web scraping\n!conda install -c conda-forge geopy --yes\n!conda install -c conda-forge folium=0.5.0 --yes\n!conda install -c conda-forge html5lib --yes # parser for html5 for beautifulsoup", 
            "cell_type": "code", 
            "metadata": {}, 
            "outputs": [
                {
                    "output_type": "stream", 
                    "name": "stdout", 
                    "text": "Solving environment: done\n\n## Package Plan ##\n\n  environment location: /opt/conda/envs/DSX-Python35\n\n  added / updated specs: \n    - beautifulsoup4\n\n\nThe following packages will be downloaded:\n\n    package                    |            build\n    ---------------------------|-----------------\n    openssl-1.0.2r             |       h14c3975_0         3.1 MB  conda-forge\n    ca-certificates-2019.3.9   |       hecc5488_0         146 KB  conda-forge\n    certifi-2018.8.24          |        py35_1001         139 KB  conda-forge\n    beautifulsoup4-4.6.3       |           py35_0         139 KB  conda-forge\n    ------------------------------------------------------------\n                                           Total:         3.6 MB\n\nThe following packages will be UPDATED:\n\n    beautifulsoup4:  4.6.0-py35h442a8c9_1 --> 4.6.3-py35_0        conda-forge\n    ca-certificates: 2019.1.23-0          --> 2019.3.9-hecc5488_0 conda-forge\n    certifi:         2018.8.24-py35_1     --> 2018.8.24-py35_1001 conda-forge\n    openssl:         1.0.2r-h7b6447c_0    --> 1.0.2r-h14c3975_0   conda-forge\n\n\nDownloading and Extracting Packages\nopenssl-1.0.2r       | 3.1 MB    | ##################################### | 100% \nca-certificates-2019 | 146 KB    | ##################################### | 100% \ncertifi-2018.8.24    | 139 KB    | ##################################### | 100% \nbeautifulsoup4-4.6.3 | 139 KB    | ##################################### | 100% \nPreparing transaction: done\nVerifying transaction: done\nExecuting transaction: done\nSolving environment: done\n\n## Package Plan ##\n\n  environment location: /opt/conda/envs/DSX-Python35\n\n  added / updated specs: \n    - progressbar2\n\n\nThe following packages will be downloaded:\n\n    package                    |            build\n    ---------------------------|-----------------\n    python-utils-2.3.0         |             py_1          11 KB  conda-forge\n    pytest-runner-5.1          |             py_0           9 KB  conda-forge\n    progressbar2-3.38.0        |             py_1          19 KB  conda-forge\n    ------------------------------------------------------------\n                                           Total:          40 KB\n\nThe following NEW packages will be INSTALLED:\n\n    progressbar2:  3.38.0-py_1 conda-forge\n    pytest-runner: 5.1-py_0    conda-forge\n    python-utils:  2.3.0-py_1  conda-forge\n\n\nDownloading and Extracting Packages\npython-utils-2.3.0   | 11 KB     | ##################################### | 100% \npytest-runner-5.1    | 9 KB      | ##################################### | 100% \nprogressbar2-3.38.0  | 19 KB     | ##################################### | 100% \nPreparing transaction: done\nVerifying transaction: done\nExecuting transaction: done\nSolving environment: done\n\n## Package Plan ##\n\n  environment location: /opt/conda/envs/DSX-Python35\n\n  added / updated specs: \n    - lxml\n\n\nThe following packages will be downloaded:\n\n    package                    |            build\n    ---------------------------|-----------------\n    libxslt-1.1.32             |    h4785a14_1002         539 KB  conda-forge\n    lxml-4.2.5                 |   py35hc9114bc_0         5.8 MB  conda-forge\n    libxml2-2.9.9              |       h13577e0_0         2.0 MB  conda-forge\n    ------------------------------------------------------------\n                                           Total:         8.3 MB\n\nThe following packages will be UPDATED:\n\n    libxml2: 2.9.4-h6b072ca_5     --> 2.9.9-h13577e0_0     conda-forge\n    libxslt: 1.1.29-hcf9102b_5    --> 1.1.32-h4785a14_1002 conda-forge\n    lxml:    4.1.0-py35ha401a81_0 --> 4.2.5-py35hc9114bc_0 conda-forge\n\n\nDownloading and Extracting Packages\nlibxslt-1.1.32       | 539 KB    | ##################################### | 100% \nlxml-4.2.5           | 5.8 MB    | ##################################### | 100% \nlibxml2-2.9.9        | 2.0 MB    | ##################################### | 100% \nPreparing transaction: done\nVerifying transaction: done\nExecuting transaction: done\nSolving environment: done\n\n## Package Plan ##\n\n  environment location: /opt/conda/envs/DSX-Python35\n\n  added / updated specs: \n    - geopy\n\n\nThe following packages will be downloaded:\n\n    package                    |            build\n    ---------------------------|-----------------\n    geopy-1.20.0               |             py_0          57 KB  conda-forge\n    geographiclib-1.49         |             py_0          32 KB  conda-forge\n    ------------------------------------------------------------\n                                           Total:          90 KB\n\nThe following NEW packages will be INSTALLED:\n\n    geographiclib: 1.49-py_0   conda-forge\n    geopy:         1.20.0-py_0 conda-forge\n\n\nDownloading and Extracting Packages\ngeopy-1.20.0         | 57 KB     | ##################################### | 100% \ngeographiclib-1.49   | 32 KB     | ##################################### | 100% \nPreparing transaction: done\nVerifying transaction: done\nExecuting transaction: done\nSolving environment: done\n\n## Package Plan ##\n\n  environment location: /opt/conda/envs/DSX-Python35\n\n  added / updated specs: \n    - folium=0.5.0\n\n\nThe following packages will be downloaded:\n\n    package                    |            build\n    ---------------------------|-----------------\n    vincent-0.4.4              |             py_1          28 KB  conda-forge\n    branca-0.3.1               |             py_0          25 KB  conda-forge\n    folium-0.5.0               |             py_0          45 KB  conda-forge\n    altair-2.2.2               |           py35_1         462 KB  conda-forge\n    ------------------------------------------------------------\n                                           Total:         560 KB\n\nThe following NEW packages will be INSTALLED:\n\n    altair:  2.2.2-py35_1 conda-forge\n    branca:  0.3.1-py_0   conda-forge\n    folium:  0.5.0-py_0   conda-forge\n    vincent: 0.4.4-py_1   conda-forge\n\n\nDownloading and Extracting Packages\nvincent-0.4.4        | 28 KB     | ##################################### | 100% \nbranca-0.3.1         | 25 KB     | ##################################### | 100% \nfolium-0.5.0         | 45 KB     | ##################################### | 100% \naltair-2.2.2         | 462 KB    | ##################################### | 100% \nPreparing transaction: done\nVerifying transaction: done\nExecuting transaction: done\nSolving environment: done\n\n## Package Plan ##\n\n  environment location: /opt/conda/envs/DSX-Python35\n\n  added / updated specs: \n    - html5lib\n\n\nThe following packages will be downloaded:\n\n    package                    |            build\n    ---------------------------|-----------------\n    html5lib-1.0.1             |             py_0          89 KB  conda-forge\n\nThe following packages will be UPDATED:\n\n    html5lib: 0.999999999-py35h0543385_0 --> 1.0.1-py_0 conda-forge\n\n\nDownloading and Extracting Packages\nhtml5lib-1.0.1       | 89 KB     | ##################################### | 100% \nPreparing transaction: done\nVerifying transaction: done\nExecuting transaction: done\n"
                }
            ], 
            "execution_count": 1
        }, 
        {
            "source": "    from progressbar import ProgressBar\n    from bs4 import BeautifulSoup as bts # web scraping\n    import numpy as np # library to handle data in a vectorized manner\n    import pandas as pd # library for data analysis\n    from pandas.io.json import json_normalize # json data\n    import matplotlib.cm as cm\n    import matplotlib.colors as colors\n    import requests # library to handle requests\n    from geopy.geocoders import Nominatim # convert an address into latitude and longitude values\n    import matplotlib as mp # library for visualization\n    from sklearn.cluster import KMeans # import k-means from clustering stage\n    from geopy.geocoders import Nominatim # convert an address into latitude and longitude values\n    import folium # map rendering library\n    import lxml \n    import re\n    from time import sleep\n    print(\"Libraries imported successfully!\\n\")", 
            "cell_type": "code", 
            "metadata": {}, 
            "outputs": [
                {
                    "output_type": "stream", 
                    "name": "stdout", 
                    "text": "Libraries imported successfully!\n\n"
                }
            ], 
            "execution_count": 229
        }, 
        {
            "source": "url = 'https://en.wikipedia.org/wiki/List_of_postal_codes_of_Canada:_M'", 
            "cell_type": "code", 
            "metadata": {
                "scrolled": true
            }, 
            "outputs": [], 
            "execution_count": 230
        }, 
        {
            "source": "source = requests.get(url).text", 
            "cell_type": "code", 
            "metadata": {}, 
            "outputs": [], 
            "execution_count": 231
        }, 
        {
            "source": "filename = \"canada1.cvs\"\nf = open(filename, 'w')", 
            "cell_type": "code", 
            "metadata": {}, 
            "outputs": [], 
            "execution_count": 232
        }, 
        {
            "source": "soup = bts(source, 'lxml')", 
            "cell_type": "code", 
            "metadata": {}, 
            "outputs": [], 
            "execution_count": 233
        }, 
        {
            "source": "article = soup.find('div', 'mw-content-ltr')", 
            "cell_type": "code", 
            "metadata": {}, 
            "outputs": [], 
            "execution_count": 234
        }, 
        {
            "source": "table = article.table", 
            "cell_type": "code", 
            "metadata": {}, 
            "outputs": [], 
            "execution_count": 235
        }, 
        {
            "source": "rows = table.tbody.find_all('tr')", 
            "cell_type": "code", 
            "metadata": {}, 
            "outputs": [], 
            "execution_count": 268
        }, 
        {
            "source": "column_name = rowt[0].find_all('th')\nprint(column_name)", 
            "cell_type": "code", 
            "metadata": {}, 
            "outputs": [
                {
                    "output_type": "stream", 
                    "name": "stdout", 
                    "text": "[<th>Postcode</th>, <th>Borough</th>, <th>Neighbourhood\n</th>]\n"
                }
            ], 
            "execution_count": 269
        }, 
        {
            "source": "headers = \"\"", 
            "cell_type": "code", 
            "metadata": {}, 
            "outputs": [], 
            "execution_count": 270
        }, 
        {
            "source": "for column_name in column_names:\n    headers = headers + column_name.text + \",\"\nheaders = headers[:-1]", 
            "cell_type": "code", 
            "metadata": {}, 
            "outputs": [], 
            "execution_count": 271
        }, 
        {
            "source": "f.write(headers)", 
            "cell_type": "code", 
            "metadata": {}, 
            "outputs": [
                {
                    "output_type": "execute_result", 
                    "data": {
                        "text/plain": "31"
                    }, 
                    "execution_count": 272, 
                    "metadata": {}
                }
            ], 
            "execution_count": 272
        }, 
        {
            "source": "for row in rows:\n    cells = row.find_all('td')\n    row_buff = \"\"\n    for cell in cells:\n        row_buff = row_buff + cell.text + ','\n\n    # A comma is not required at the end of each line/row\n    row_buff = row_buff[:-1]\n    f.write(row_buff)", 
            "cell_type": "code", 
            "metadata": {}, 
            "outputs": [], 
            "execution_count": 273
        }, 
        {
            "source": "df = pd.read_csv(\"canada1.cvs\")\ndf.head()", 
            "cell_type": "code", 
            "metadata": {}, 
            "outputs": [
                {
                    "output_type": "execute_result", 
                    "data": {
                        "text/plain": "   Postcode       Borough  Neighbourhood\n0  Postcode       Borough  Neighbourhood\n1  Postcode       Borough  Neighbourhood\n2  Postcode       Borough  Neighbourhood\n3       M1A  Not assigned   Not assigned\n4       M2A  Not assigned   Not assigned", 
                        "text/html": "<div>\n<style scoped>\n    .dataframe tbody tr th:only-of-type {\n        vertical-align: middle;\n    }\n\n    .dataframe tbody tr th {\n        vertical-align: top;\n    }\n\n    .dataframe thead th {\n        text-align: right;\n    }\n</style>\n<table border=\"1\" class=\"dataframe\">\n  <thead>\n    <tr style=\"text-align: right;\">\n      <th></th>\n      <th>Postcode</th>\n      <th>Borough</th>\n      <th>Neighbourhood</th>\n    </tr>\n  </thead>\n  <tbody>\n    <tr>\n      <th>0</th>\n      <td>Postcode</td>\n      <td>Borough</td>\n      <td>Neighbourhood</td>\n    </tr>\n    <tr>\n      <th>1</th>\n      <td>Postcode</td>\n      <td>Borough</td>\n      <td>Neighbourhood</td>\n    </tr>\n    <tr>\n      <th>2</th>\n      <td>Postcode</td>\n      <td>Borough</td>\n      <td>Neighbourhood</td>\n    </tr>\n    <tr>\n      <th>3</th>\n      <td>M1A</td>\n      <td>Not assigned</td>\n      <td>Not assigned</td>\n    </tr>\n    <tr>\n      <th>4</th>\n      <td>M2A</td>\n      <td>Not assigned</td>\n      <td>Not assigned</td>\n    </tr>\n  </tbody>\n</table>\n</div>"
                    }, 
                    "execution_count": 274, 
                    "metadata": {}
                }
            ], 
            "execution_count": 274
        }, 
        {
            "source": "df.shape", 
            "cell_type": "code", 
            "metadata": {}, 
            "outputs": [
                {
                    "output_type": "execute_result", 
                    "data": {
                        "text/plain": "(543, 3)"
                    }, 
                    "execution_count": 275, 
                    "metadata": {}
                }
            ], 
            "execution_count": 275
        }, 
        {
            "source": "bmask = df.index[df['Borough'] == 'Not assigned']\nnmask = df.index[df['Neighbourhood'] == 'Not assigned']\nn_and_b_mask = borough_mask & neighborhood_mask", 
            "cell_type": "code", 
            "metadata": {}, 
            "outputs": [], 
            "execution_count": 298
        }, 
        {
            "source": "print('{} Postal codes'.format(df['Postcode'].unique().shape[0]))\nprint('{} Boroughs'.format(df['Borough'].unique().shape[0]))\nprint('{} Neighborhoods'.format(df['Neighbourhood'].unique().shape[0]))\nprint('The DataFrame shape is {}'.format(df.shape),'\\n')", 
            "cell_type": "code", 
            "metadata": {}, 
            "outputs": [
                {
                    "output_type": "stream", 
                    "name": "stdout", 
                    "text": "104 Postal codes\n12 Boroughs\n210 Neighborhoods\nThe DataFrame shape is (406, 3) \n\n"
                }
            ], 
            "execution_count": 299
        }, 
        {
            "source": "df.drop(df.index[bmask], inplace=True)\ndf.reset_index(drop=True, inplace=True)\nprint(df.shape)\ndf.head(20)", 
            "cell_type": "code", 
            "metadata": {}, 
            "outputs": [
                {
                    "output_type": "stream", 
                    "name": "stdout", 
                    "text": "(406, 3)\n"
                }, 
                {
                    "output_type": "execute_result", 
                    "data": {
                        "text/plain": "    Postcode           Borough     Neighbourhood\n0   Postcode           Borough     Neighbourhood\n1   Postcode           Borough     Neighbourhood\n2   Postcode           Borough     Neighbourhood\n3        M3A        North York         Parkwoods\n4        M4A        North York  Victoria Village\n5        M5A  Downtown Toronto      Harbourfront\n6        M5A  Downtown Toronto       Regent Park\n7        M6A        North York  Lawrence Heights\n8        M6A        North York    Lawrence Manor\n9        M7A      Queen's Park      Not assigned\n10       M9A         Etobicoke  Islington Avenue\n11       M1B       Scarborough             Rouge\n12       M1B       Scarborough           Malvern\n13       M3B        North York   Don Mills North\n14       M4B         East York  Woodbine Gardens\n15       M4B         East York     Parkview Hill\n16       M5B  Downtown Toronto           Ryerson\n17       M5B  Downtown Toronto   Garden District\n18       M6B        North York         Glencairn\n19       M9B         Etobicoke        Cloverdale", 
                        "text/html": "<div>\n<style scoped>\n    .dataframe tbody tr th:only-of-type {\n        vertical-align: middle;\n    }\n\n    .dataframe tbody tr th {\n        vertical-align: top;\n    }\n\n    .dataframe thead th {\n        text-align: right;\n    }\n</style>\n<table border=\"1\" class=\"dataframe\">\n  <thead>\n    <tr style=\"text-align: right;\">\n      <th></th>\n      <th>Postcode</th>\n      <th>Borough</th>\n      <th>Neighbourhood</th>\n    </tr>\n  </thead>\n  <tbody>\n    <tr>\n      <th>0</th>\n      <td>Postcode</td>\n      <td>Borough</td>\n      <td>Neighbourhood</td>\n    </tr>\n    <tr>\n      <th>1</th>\n      <td>Postcode</td>\n      <td>Borough</td>\n      <td>Neighbourhood</td>\n    </tr>\n    <tr>\n      <th>2</th>\n      <td>Postcode</td>\n      <td>Borough</td>\n      <td>Neighbourhood</td>\n    </tr>\n    <tr>\n      <th>3</th>\n      <td>M3A</td>\n      <td>North York</td>\n      <td>Parkwoods</td>\n    </tr>\n    <tr>\n      <th>4</th>\n      <td>M4A</td>\n      <td>North York</td>\n      <td>Victoria Village</td>\n    </tr>\n    <tr>\n      <th>5</th>\n      <td>M5A</td>\n      <td>Downtown Toronto</td>\n      <td>Harbourfront</td>\n    </tr>\n    <tr>\n      <th>6</th>\n      <td>M5A</td>\n      <td>Downtown Toronto</td>\n      <td>Regent Park</td>\n    </tr>\n    <tr>\n      <th>7</th>\n      <td>M6A</td>\n      <td>North York</td>\n      <td>Lawrence Heights</td>\n    </tr>\n    <tr>\n      <th>8</th>\n      <td>M6A</td>\n      <td>North York</td>\n      <td>Lawrence Manor</td>\n    </tr>\n    <tr>\n      <th>9</th>\n      <td>M7A</td>\n      <td>Queen's Park</td>\n      <td>Not assigned</td>\n    </tr>\n    <tr>\n      <th>10</th>\n      <td>M9A</td>\n      <td>Etobicoke</td>\n      <td>Islington Avenue</td>\n    </tr>\n    <tr>\n      <th>11</th>\n      <td>M1B</td>\n      <td>Scarborough</td>\n      <td>Rouge</td>\n    </tr>\n    <tr>\n      <th>12</th>\n      <td>M1B</td>\n      <td>Scarborough</td>\n      <td>Malvern</td>\n    </tr>\n    <tr>\n      <th>13</th>\n      <td>M3B</td>\n      <td>North York</td>\n      <td>Don Mills North</td>\n    </tr>\n    <tr>\n      <th>14</th>\n      <td>M4B</td>\n      <td>East York</td>\n      <td>Woodbine Gardens</td>\n    </tr>\n    <tr>\n      <th>15</th>\n      <td>M4B</td>\n      <td>East York</td>\n      <td>Parkview Hill</td>\n    </tr>\n    <tr>\n      <th>16</th>\n      <td>M5B</td>\n      <td>Downtown Toronto</td>\n      <td>Ryerson</td>\n    </tr>\n    <tr>\n      <th>17</th>\n      <td>M5B</td>\n      <td>Downtown Toronto</td>\n      <td>Garden District</td>\n    </tr>\n    <tr>\n      <th>18</th>\n      <td>M6B</td>\n      <td>North York</td>\n      <td>Glencairn</td>\n    </tr>\n    <tr>\n      <th>19</th>\n      <td>M9B</td>\n      <td>Etobicoke</td>\n      <td>Cloverdale</td>\n    </tr>\n  </tbody>\n</table>\n</div>"
                    }, 
                    "execution_count": 301, 
                    "metadata": {}
                }
            ], 
            "execution_count": 301
        }, 
        {
            "source": "nmask = df.index[df['Neighbourhood'] == 'Not assigned']", 
            "cell_type": "code", 
            "metadata": {}, 
            "outputs": [], 
            "execution_count": 302
        }, 
        {
            "source": "print(nmask)", 
            "cell_type": "code", 
            "metadata": {}, 
            "outputs": [
                {
                    "output_type": "stream", 
                    "name": "stdout", 
                    "text": "Int64Index([9, 222], dtype='int64')\n"
                }
            ], 
            "execution_count": 303
        }, 
        {
            "source": "for idx in nmask:\n    df['Neighbourhood'][idx] = df['Borough'][idx]\nprint(df.shape)   \ndf.head(10)", 
            "cell_type": "code", 
            "metadata": {}, 
            "outputs": [
                {
                    "output_type": "stream", 
                    "name": "stdout", 
                    "text": "(406, 3)\n"
                }, 
                {
                    "output_type": "execute_result", 
                    "data": {
                        "text/plain": "   Postcode           Borough     Neighbourhood\n0  Postcode           Borough     Neighbourhood\n1  Postcode           Borough     Neighbourhood\n2  Postcode           Borough     Neighbourhood\n3       M3A        North York         Parkwoods\n4       M4A        North York  Victoria Village\n5       M5A  Downtown Toronto      Harbourfront\n6       M5A  Downtown Toronto       Regent Park\n7       M6A        North York  Lawrence Heights\n8       M6A        North York    Lawrence Manor\n9       M7A      Queen's Park      Queen's Park", 
                        "text/html": "<div>\n<style scoped>\n    .dataframe tbody tr th:only-of-type {\n        vertical-align: middle;\n    }\n\n    .dataframe tbody tr th {\n        vertical-align: top;\n    }\n\n    .dataframe thead th {\n        text-align: right;\n    }\n</style>\n<table border=\"1\" class=\"dataframe\">\n  <thead>\n    <tr style=\"text-align: right;\">\n      <th></th>\n      <th>Postcode</th>\n      <th>Borough</th>\n      <th>Neighbourhood</th>\n    </tr>\n  </thead>\n  <tbody>\n    <tr>\n      <th>0</th>\n      <td>Postcode</td>\n      <td>Borough</td>\n      <td>Neighbourhood</td>\n    </tr>\n    <tr>\n      <th>1</th>\n      <td>Postcode</td>\n      <td>Borough</td>\n      <td>Neighbourhood</td>\n    </tr>\n    <tr>\n      <th>2</th>\n      <td>Postcode</td>\n      <td>Borough</td>\n      <td>Neighbourhood</td>\n    </tr>\n    <tr>\n      <th>3</th>\n      <td>M3A</td>\n      <td>North York</td>\n      <td>Parkwoods</td>\n    </tr>\n    <tr>\n      <th>4</th>\n      <td>M4A</td>\n      <td>North York</td>\n      <td>Victoria Village</td>\n    </tr>\n    <tr>\n      <th>5</th>\n      <td>M5A</td>\n      <td>Downtown Toronto</td>\n      <td>Harbourfront</td>\n    </tr>\n    <tr>\n      <th>6</th>\n      <td>M5A</td>\n      <td>Downtown Toronto</td>\n      <td>Regent Park</td>\n    </tr>\n    <tr>\n      <th>7</th>\n      <td>M6A</td>\n      <td>North York</td>\n      <td>Lawrence Heights</td>\n    </tr>\n    <tr>\n      <th>8</th>\n      <td>M6A</td>\n      <td>North York</td>\n      <td>Lawrence Manor</td>\n    </tr>\n    <tr>\n      <th>9</th>\n      <td>M7A</td>\n      <td>Queen's Park</td>\n      <td>Queen's Park</td>\n    </tr>\n  </tbody>\n</table>\n</div>"
                    }, 
                    "execution_count": 304, 
                    "metadata": {}
                }
            ], 
            "execution_count": 304
        }, 
        {
            "source": "bmask = df.index[df['Borough'] == 'Not assigned']\nnmask = df.index[df['Neighbourhood'] == 'Not assigned']\nn_and_b_mask = bmask & nmask", 
            "cell_type": "code", 
            "metadata": {}, 
            "outputs": [], 
            "execution_count": 305
        }, 
        {
            "source": "print('The data is: {}'.format(df.shape),'\\n')", 
            "cell_type": "code", 
            "metadata": {}, 
            "outputs": [
                {
                    "output_type": "stream", 
                    "name": "stdout", 
                    "text": "The data is: (406, 3) \n\n"
                }
            ], 
            "execution_count": 306
        }, 
        {
            "source": "print('{} Postal codes'.format(df['Postcode'].unique().shape[0]))\nprint('{} Boroughs'.format(df['Borough'].unique().shape[0]))\nprint('{} Neighborhoods'.format(df['Neighbourhood'].unique().shape[0]))", 
            "cell_type": "code", 
            "metadata": {}, 
            "outputs": [
                {
                    "output_type": "stream", 
                    "name": "stdout", 
                    "text": "104 Postal codes\n12 Boroughs\n210 Neighborhoods\n"
                }
            ], 
            "execution_count": 308
        }, 
        {
            "source": "print('The final DataFrame shape is {}'.format(df.shape),'\\n')", 
            "cell_type": "code", 
            "metadata": {}, 
            "outputs": [
                {
                    "output_type": "stream", 
                    "name": "stdout", 
                    "text": "The final DataFrame shape is (406, 3) \n\n"
                }
            ], 
            "execution_count": 309
        }, 
        {
            "source": "# headline = article.a.text\n# print(headline)", 
            "cell_type": "code", 
            "metadata": {}, 
            "outputs": [], 
            "execution_count": 127
        }, 
        {
            "source": "# print(article.prettify())", 
            "cell_type": "code", 
            "metadata": {}, 
            "outputs": [], 
            "execution_count": 124
        }, 
        {
            "source": "# summary = article.find('div', class_='entry-content')", 
            "cell_type": "code", 
            "metadata": {}, 
            "outputs": [], 
            "execution_count": 125
        }, 
        {
            "source": "# print(summary)", 
            "cell_type": "code", 
            "metadata": {}, 
            "outputs": [], 
            "execution_count": 126
        }, 
        {
            "source": "# vid_src = article.find('iframe', class_='youtube-player')['src']\n# print(vid_src)", 
            "cell_type": "code", 
            "metadata": {}, 
            "outputs": [], 
            "execution_count": 292
        }, 
        {
            "source": "# vid_id = vid_src.split('/')[4]\n# vid_id = vid_id.split('?')[0]", 
            "cell_type": "code", 
            "metadata": {}, 
            "outputs": [], 
            "execution_count": 293
        }, 
        {
            "source": "# print(vid_id)", 
            "cell_type": "code", 
            "metadata": {}, 
            "outputs": [], 
            "execution_count": 294
        }, 
        {
            "source": "", 
            "cell_type": "code", 
            "metadata": {}, 
            "outputs": [], 
            "execution_count": null
        }, 
        {
            "source": "", 
            "cell_type": "code", 
            "metadata": {}, 
            "outputs": [], 
            "execution_count": null
        }, 
        {
            "source": "", 
            "cell_type": "code", 
            "metadata": {}, 
            "outputs": [], 
            "execution_count": null
        }
    ], 
    "metadata": {
        "kernelspec": {
            "display_name": "Python 3.5", 
            "name": "python3", 
            "language": "python"
        }, 
        "language_info": {
            "mimetype": "text/x-python", 
            "nbconvert_exporter": "python", 
            "version": "3.5.5", 
            "name": "python", 
            "file_extension": ".py", 
            "pygments_lexer": "ipython3", 
            "codemirror_mode": {
                "version": 3, 
                "name": "ipython"
            }
        }
    }, 
    "nbformat": 4
}